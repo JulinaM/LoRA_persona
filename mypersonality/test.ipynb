{
 "cells": [
  {
   "cell_type": "code",
   "execution_count": 17,
   "id": "8d7411aa",
   "metadata": {},
   "outputs": [
    {
     "name": "stderr",
     "output_type": "stream",
     "text": [
      "/tmp/ipykernel_1611408/1634704922.py:8: SettingWithCopyWarning: \n",
      "A value is trying to be set on a copy of a slice from a DataFrame\n",
      "\n",
      "See the caveats in the documentation: https://pandas.pydata.org/pandas-docs/stable/user_guide/indexing.html#returning-a-view-versus-a-copy\n",
      "  df[['text', 'cEXT', 'cNEU', 'cAGR', 'cCON', 'cOPN']].dropna(inplace=True)\n"
     ]
    }
   ],
   "source": [
    "import pandas as pd\n",
    "splits = {'train': 'data/train-00000-of-00001.parquet', 'validation': 'data/validation-00000-of-00001.parquet', 'test': 'data/test-00000-of-00001.parquet'}\n",
    "df3 = pd.read_parquet(\"hf://datasets/jingjietan/essays-big5/\" + splits[\"train\"])\n",
    "df1 = pd.read_parquet(\"hf://datasets/jingjietan/essays-big5/\" + splits[\"validation\"])\n",
    "df2 = pd.read_parquet(\"hf://datasets/jingjietan/essays-big5/\" + splits[\"test\"])\n",
    "df = pd.concat([df1, df2, df3])\n",
    "df = df.rename(columns={'E':'cEXT', 'N':'cNEU', 'A':'cAGR', 'C':'cCON', 'O':'cOPN'})\n",
    "df[['text', 'cEXT', 'cNEU', 'cAGR', 'cCON', 'cOPN']].dropna(inplace=True)\n",
    "df.shape\n",
    "df[['text', 'cEXT', 'cNEU', 'cAGR', 'cCON', 'cOPN']].to_csv('../data/essay.csv')\n"
   ]
  },
  {
   "cell_type": "code",
   "execution_count": 18,
   "id": "e3421bdc",
   "metadata": {},
   "outputs": [
    {
     "data": {
      "text/plain": [
       "(2467, 7)"
      ]
     },
     "execution_count": 18,
     "metadata": {},
     "output_type": "execute_result"
    }
   ],
   "source": [
    "import pandas as pd\n",
    "\n",
    "df1 = pd.read_csv('../data/essay.csv')\n",
    "df2 = pd.read_csv('../data/mypersonality.csv', encoding='Windows-1252')\n",
    "\n",
    "# from sklearn.model_selection import train_test_split\n",
    "# trainval1, test1 = train_test_split(df1, test_size=0.1, random_state=42)\n",
    "# trainval2, test2 = train_test_split(df2, test_size=0.1, random_state=42)\n",
    "\n",
    "# trainval_df = pd.concat([trainval1, trainval2], ignore_index=True)\n",
    "# trainval_df.to_csv('../data/train_val.csv')\n",
    "# test1.to_csv('../data/essay_test.csv')\n",
    "# test2.to_csv('../data/fb_test.csv')\n",
    "# trainval_df.shape, test1.shape, test2.shape\n",
    "df1.shape"
   ]
  },
  {
   "cell_type": "code",
   "execution_count": 20,
   "id": "3ee87ac2",
   "metadata": {},
   "outputs": [
    {
     "data": {
      "text/plain": [
       "np.float64(652.1333603567084)"
      ]
     },
     "execution_count": 20,
     "metadata": {},
     "output_type": "execute_result"
    }
   ],
   "source": [
    "import pandas as pd\n",
    "\n",
    "\n",
    "# Calculate the token count for each row\n",
    "df1['token_count'] = df1['text'].str.split().str.len().mean()\n",
    "# df2['text'] = df2['Text'].fillna('')\n",
    "# df1['STATUS'].str.split().str.len().min()\n",
    "df1['token_count'].mean()"
   ]
  }
 ],
 "metadata": {
  "kernelspec": {
   "display_name": "gpu",
   "language": "python",
   "name": "python3"
  },
  "language_info": {
   "codemirror_mode": {
    "name": "ipython",
    "version": 3
   },
   "file_extension": ".py",
   "mimetype": "text/x-python",
   "name": "python",
   "nbconvert_exporter": "python",
   "pygments_lexer": "ipython3",
   "version": "3.13.5"
  }
 },
 "nbformat": 4,
 "nbformat_minor": 5
}
